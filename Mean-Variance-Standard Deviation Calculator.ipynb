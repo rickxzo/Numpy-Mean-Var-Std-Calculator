{
 "cells": [
  {
   "cell_type": "code",
   "execution_count": 1,
   "id": "62ff97fe-d4ec-4d5e-b42f-dae3f4f5b6af",
   "metadata": {},
   "outputs": [],
   "source": [
    "#importing numpy as our primary module\n",
    "import numpy as np\n",
    "\n",
    "#function to find summation across both axes and overall\n",
    "def summ(data):\n",
    "    ax1=[]\n",
    "    ax2=[]\n",
    "    s=0\n",
    "    for i in range(3):\n",
    "        ax1.append(sum(data[i]))\n",
    "    for i in range(3):\n",
    "        ax2.append(sum(data[:,i]))\n",
    "    s=sum(ax1)\n",
    "    l=[ax2,ax1,s]\n",
    "    return l\n",
    "    \n",
    "#function to find means across both axes and overall\n",
    "def mean(data):\n",
    "    ax1=[]\n",
    "    ax2=[]\n",
    "    s=0\n",
    "    for i in range(3):\n",
    "        ax1.append(np.mean(data[i]))\n",
    "    for i in range(3):\n",
    "        ax2.append(np.mean(data[:,i]))\n",
    "    s=np.mean(data)\n",
    "    l=[ax2,ax1,s]\n",
    "    return l\n",
    "    \n",
    "#function to find variance across both axes and overall\n",
    "def variance(data):\n",
    "    ax1=[]\n",
    "    ax2=[]\n",
    "    s=0\n",
    "    for i in range(3):\n",
    "        ax1.append(np.var(data[i]))\n",
    "    for i in range(3):\n",
    "        ax2.append(np.var(data[:,i]))\n",
    "    s=np.var(data)\n",
    "    l=[ax2,ax1,s]\n",
    "    return l\n",
    "#function to find standard deviation across both axes and overall\n",
    "def stddev(data):\n",
    "    ax1=[]\n",
    "    ax2=[]\n",
    "    s=0\n",
    "    for i in range(3):\n",
    "        ax1.append(np.std(data[i]))\n",
    "    for i in range(3):\n",
    "        ax2.append(np.std(data[:,i]))\n",
    "    s=np.std(data)\n",
    "    l=[ax2,ax1,s]\n",
    "    return l\n",
    "    \n",
    "#function to find maximum across both axes and overall\n",
    "def maxi(data):\n",
    "    ax1=[]\n",
    "    ax2=[]\n",
    "    s=0\n",
    "    for i in range(3):\n",
    "        ax1.append(max(data[i]))\n",
    "    for i in range(3):\n",
    "        ax2.append(max(data[:,i]))\n",
    "    s=max(ax1)\n",
    "    l=[ax2,ax1,s]\n",
    "    return l\n",
    "#function to find minimum across both axes and overall\n",
    "def mini(data):\n",
    "    ax1=[]\n",
    "    ax2=[]\n",
    "    s=0\n",
    "    for i in range(3):\n",
    "        ax1.append(min(data[i]))\n",
    "    for i in range(3):\n",
    "        ax2.append(min(data[:,i]))\n",
    "    s=min(ax1)\n",
    "    l=[ax2,ax1,s]\n",
    "    return l\n",
    "    \n",
    "#The main 'Calculate' function which returns our desired dictionary of data-info\n",
    "def calculate(nums):\n",
    "    if len(nums)!=9:\n",
    "        return (\"Invalid Dataset\")\n",
    "    else:\n",
    "        data=np.array(nums)\n",
    "        data=data.reshape(3,3)\n",
    "        avg = mean(data)\n",
    "        var = variance(data)\n",
    "        std = stddev(data)\n",
    "        mx = maxi(data)\n",
    "        mn = mini(data)\n",
    "        sm = summ(data)\n",
    "        return ({'Mean':avg,'Variance':var,'Standard Deviation':std,'Maximum':mx,'Minimum':mn,'Summation':sm})\n",
    "        print(data)\n",
    "        "
   ]
  },
  {
   "cell_type": "markdown",
   "id": "db11ff06-4948-45af-b81d-9f8a62f23651",
   "metadata": {},
   "source": [
    "Test Samples below"
   ]
  },
  {
   "cell_type": "markdown",
   "id": "9c46bd3e-4291-4a5a-9e5d-2753480bc818",
   "metadata": {},
   "source": [
    "Case1: Less than 9 elements passed in data"
   ]
  },
  {
   "cell_type": "code",
   "execution_count": 2,
   "id": "ab7cd692-2c1a-4963-8e47-685fccb35880",
   "metadata": {},
   "outputs": [
    {
     "data": {
      "text/plain": [
       "'Invalid Dataset'"
      ]
     },
     "execution_count": 2,
     "metadata": {},
     "output_type": "execute_result"
    }
   ],
   "source": [
    "a = calculate([1,2,3])\n",
    "a"
   ]
  },
  {
   "cell_type": "markdown",
   "id": "49348c9b-01e5-474e-bd0d-5ea2c201e9fa",
   "metadata": {},
   "source": [
    "Case2: More than 9 elements passed in data"
   ]
  },
  {
   "cell_type": "code",
   "execution_count": 3,
   "id": "f1ef5a23-ea72-4492-9485-18ad18396f8b",
   "metadata": {},
   "outputs": [
    {
     "data": {
      "text/plain": [
       "'Invalid Dataset'"
      ]
     },
     "execution_count": 3,
     "metadata": {},
     "output_type": "execute_result"
    }
   ],
   "source": [
    "a = calculate([1,2,3,4,5,6,7,8,9,1,2,3,4,5,6,7,8,9])\n",
    "a"
   ]
  },
  {
   "cell_type": "markdown",
   "id": "4907b23e-1b41-4f15-9fbb-83e9c91180dd",
   "metadata": {},
   "source": [
    "Case3: Exactly 9 elements { example 1 }"
   ]
  },
  {
   "cell_type": "code",
   "execution_count": 4,
   "id": "113132ec-4601-4db1-8f59-c075bf4359f4",
   "metadata": {},
   "outputs": [
    {
     "data": {
      "text/plain": [
       "{'Mean': [[4.0, 5.0, 6.0], [2.0, 5.0, 8.0], 5.0],\n",
       " 'Variance': [[6.0, 6.0, 6.0],\n",
       "  [0.6666666666666666, 0.6666666666666666, 0.6666666666666666],\n",
       "  6.666666666666667],\n",
       " 'Standard Deviation': [[2.449489742783178,\n",
       "   2.449489742783178,\n",
       "   2.449489742783178],\n",
       "  [0.816496580927726, 0.816496580927726, 0.816496580927726],\n",
       "  2.581988897471611],\n",
       " 'Maximum': [[7, 8, 9], [3, 6, 9], 9],\n",
       " 'Minimum': [[1, 2, 3], [1, 4, 7], 1],\n",
       " 'Summation': [[12, 15, 18], [6, 15, 24], 45]}"
      ]
     },
     "execution_count": 4,
     "metadata": {},
     "output_type": "execute_result"
    }
   ],
   "source": [
    "#FCC provided base example\n",
    "a = calculate([1,2,3,4,5,6,7,8,9])\n",
    "a"
   ]
  },
  {
   "cell_type": "markdown",
   "id": "ca462baa-383b-4ed4-a3c5-d4065f0c8e1e",
   "metadata": {},
   "source": [
    "Case3: Exactly 9 elements { example 2 }"
   ]
  },
  {
   "cell_type": "code",
   "execution_count": 5,
   "id": "3cde00ad-2625-4255-bb36-c2d548754a5f",
   "metadata": {},
   "outputs": [
    {
     "data": {
      "text/plain": [
       "{'Mean': [[56.333333333333336, 39.333333333333336, 59.333333333333336],\n",
       "  [49.333333333333336, 41.0, 64.66666666666667],\n",
       "  51.666666666666664],\n",
       " 'Variance': [[91.55555555555556, 601.5555555555555, 4.222222222222222],\n",
       "  [402.8888888888889, 194.66666666666666, 44.22222222222223],\n",
       "  310.0],\n",
       " 'Standard Deviation': [[9.568466729604882,\n",
       "   24.526629518862872,\n",
       "   2.0548046676563256],\n",
       "  [20.07209228976613, 13.9522996909709, 6.649979114420002],\n",
       "  17.60681686165901],\n",
       " 'Maximum': [[65, 74, 62], [65, 57, 74], 74],\n",
       " 'Minimum': [[43, 21, 57], [21, 23, 59], 21],\n",
       " 'Summation': [[169, 118, 178], [148, 123, 194], 465]}"
      ]
     },
     "execution_count": 5,
     "metadata": {},
     "output_type": "execute_result"
    }
   ],
   "source": [
    "#array of random values using np.random\n",
    "a = calculate(np.random.randint(100,size=9))\n",
    "a"
   ]
  }
 ],
 "metadata": {
  "kernelspec": {
   "display_name": "Python 3 (ipykernel)",
   "language": "python",
   "name": "python3"
  },
  "language_info": {
   "codemirror_mode": {
    "name": "ipython",
    "version": 3
   },
   "file_extension": ".py",
   "mimetype": "text/x-python",
   "name": "python",
   "nbconvert_exporter": "python",
   "pygments_lexer": "ipython3",
   "version": "3.11.7"
  }
 },
 "nbformat": 4,
 "nbformat_minor": 5
}
